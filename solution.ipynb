{
 "cells": [
  {
   "cell_type": "code",
   "execution_count": 17,
   "metadata": {},
   "outputs": [],
   "source": [
    "import numpy as np\n",
    "import matplotlib.pyplot as plt\n",
    "import pandas as pd\n",
    "import seaborn as sns\n",
    "import lightgbm as lgb\n",
    "import gc\n",
    "import pickle"
   ]
  },
  {
   "cell_type": "markdown",
   "metadata": {},
   "source": [
    "## Introduction\n",
    "\n",
    "This is my solution for the following Kaggle competition:\n",
    "https://www.kaggle.com/c/talkingdata-adtracking-fraud-detection/overview\n",
    "\n",
    "The goal is to classify ad click data on whether the click was followed by an application download or not. I decided to use LightGBM because the data has mostly categorical features and is large, making it suitable for LGBM.\n",
    "\n",
    "To be able to run this Notebook, please download the train.csv and test.csv from:\n",
    "https://www.kaggle.com/c/talkingdata-adtracking-fraud-detection/data"
   ]
  },
  {
   "cell_type": "markdown",
   "metadata": {},
   "source": [
    "## Load data"
   ]
  },
  {
   "cell_type": "code",
   "execution_count": 2,
   "metadata": {
    "scrolled": true
   },
   "outputs": [
    {
     "name": "stdout",
     "output_type": "stream",
     "text": [
      "Wall time: 4min 46s\n"
     ]
    }
   ],
   "source": [
    "%%time\n",
    "# assign dtypes to reduce memory use\n",
    "dtypes = {\n",
    "    'click_id': 'uint32',\n",
    "    'ip': 'uint32',\n",
    "    'app': 'uint16',\n",
    "    'device': 'uint16',\n",
    "    'os': 'uint16',\n",
    "    'channel': 'uint16',\n",
    "    'is_attributed': 'uint8'\n",
    "}\n",
    "# attributed time is not read because it is not a feature of test data\n",
    "train_df = pd.read_csv('input/train.csv', header=0, sep=',', \n",
    "                       dtype=dtypes, parse_dates=['click_time'],\n",
    "                       usecols=['ip', 'app', 'device', 'os', 'channel', 'click_time', 'is_attributed'])"
   ]
  },
  {
   "cell_type": "code",
   "execution_count": 3,
   "metadata": {},
   "outputs": [
    {
     "name": "stdout",
     "output_type": "stream",
     "text": [
      "Wall time: 30.9 s\n"
     ]
    },
    {
     "data": {
      "text/plain": [
       "7"
      ]
     },
     "execution_count": 3,
     "metadata": {},
     "output_type": "execute_result"
    }
   ],
   "source": [
    "%%time\n",
    "test_df = pd.read_csv('input/test.csv', header=0, sep=',', \n",
    "                       dtype=dtypes, parse_dates=['click_time'],\n",
    "                       usecols=['ip','app','device','os', 'channel', 'click_time', 'click_id'])\n",
    "gc.collect();"
   ]
  },
  {
   "cell_type": "code",
   "execution_count": 4,
   "metadata": {
    "scrolled": true
   },
   "outputs": [
    {
     "name": "stdout",
     "output_type": "stream",
     "text": [
      "Loaded...\n"
     ]
    }
   ],
   "source": [
    "print('Loaded...')"
   ]
  },
  {
   "cell_type": "markdown",
   "metadata": {},
   "source": [
    "## EDA"
   ]
  },
  {
   "cell_type": "code",
   "execution_count": 6,
   "metadata": {},
   "outputs": [
    {
     "name": "stdout",
     "output_type": "stream",
     "text": [
      "Train: 184903890 rows\n",
      "Test:  18790469 rows\n"
     ]
    }
   ],
   "source": [
    "# data set sizes in rows\n",
    "print(\"Train: \"+str(len(train_df))+\" rows\")\n",
    "print(\"Test:  \"+str(len(test_df))+\" rows\")"
   ]
  },
  {
   "cell_type": "code",
   "execution_count": 11,
   "metadata": {},
   "outputs": [
    {
     "data": {
      "text/html": [
       "<div>\n",
       "<style scoped>\n",
       "    .dataframe tbody tr th:only-of-type {\n",
       "        vertical-align: middle;\n",
       "    }\n",
       "\n",
       "    .dataframe tbody tr th {\n",
       "        vertical-align: top;\n",
       "    }\n",
       "\n",
       "    .dataframe thead th {\n",
       "        text-align: right;\n",
       "    }\n",
       "</style>\n",
       "<table border=\"1\" class=\"dataframe\">\n",
       "  <thead>\n",
       "    <tr style=\"text-align: right;\">\n",
       "      <th></th>\n",
       "      <th>ip</th>\n",
       "      <th>app</th>\n",
       "      <th>device</th>\n",
       "      <th>os</th>\n",
       "      <th>channel</th>\n",
       "      <th>click_time</th>\n",
       "      <th>is_attributed</th>\n",
       "    </tr>\n",
       "  </thead>\n",
       "  <tbody>\n",
       "    <tr>\n",
       "      <th>0</th>\n",
       "      <td>83230</td>\n",
       "      <td>3</td>\n",
       "      <td>1</td>\n",
       "      <td>13</td>\n",
       "      <td>379</td>\n",
       "      <td>2017-11-06 14:32:21</td>\n",
       "      <td>0</td>\n",
       "    </tr>\n",
       "    <tr>\n",
       "      <th>1</th>\n",
       "      <td>17357</td>\n",
       "      <td>3</td>\n",
       "      <td>1</td>\n",
       "      <td>19</td>\n",
       "      <td>379</td>\n",
       "      <td>2017-11-06 14:33:34</td>\n",
       "      <td>0</td>\n",
       "    </tr>\n",
       "    <tr>\n",
       "      <th>2</th>\n",
       "      <td>35810</td>\n",
       "      <td>3</td>\n",
       "      <td>1</td>\n",
       "      <td>13</td>\n",
       "      <td>379</td>\n",
       "      <td>2017-11-06 14:34:12</td>\n",
       "      <td>0</td>\n",
       "    </tr>\n",
       "    <tr>\n",
       "      <th>3</th>\n",
       "      <td>45745</td>\n",
       "      <td>14</td>\n",
       "      <td>1</td>\n",
       "      <td>13</td>\n",
       "      <td>478</td>\n",
       "      <td>2017-11-06 14:34:52</td>\n",
       "      <td>0</td>\n",
       "    </tr>\n",
       "    <tr>\n",
       "      <th>4</th>\n",
       "      <td>161007</td>\n",
       "      <td>3</td>\n",
       "      <td>1</td>\n",
       "      <td>13</td>\n",
       "      <td>379</td>\n",
       "      <td>2017-11-06 14:35:08</td>\n",
       "      <td>0</td>\n",
       "    </tr>\n",
       "  </tbody>\n",
       "</table>\n",
       "</div>"
      ],
      "text/plain": [
       "       ip  app  device  os  channel          click_time  is_attributed\n",
       "0   83230    3       1  13      379 2017-11-06 14:32:21              0\n",
       "1   17357    3       1  19      379 2017-11-06 14:33:34              0\n",
       "2   35810    3       1  13      379 2017-11-06 14:34:12              0\n",
       "3   45745   14       1  13      478 2017-11-06 14:34:52              0\n",
       "4  161007    3       1  13      379 2017-11-06 14:35:08              0"
      ]
     },
     "execution_count": 11,
     "metadata": {},
     "output_type": "execute_result"
    }
   ],
   "source": [
    "# check out rows\n",
    "train_df.head()"
   ]
  },
  {
   "cell_type": "code",
   "execution_count": 19,
   "metadata": {},
   "outputs": [
    {
     "data": {
      "text/html": [
       "<div>\n",
       "<style scoped>\n",
       "    .dataframe tbody tr th:only-of-type {\n",
       "        vertical-align: middle;\n",
       "    }\n",
       "\n",
       "    .dataframe tbody tr th {\n",
       "        vertical-align: top;\n",
       "    }\n",
       "\n",
       "    .dataframe thead th {\n",
       "        text-align: right;\n",
       "    }\n",
       "</style>\n",
       "<table border=\"1\" class=\"dataframe\">\n",
       "  <thead>\n",
       "    <tr style=\"text-align: right;\">\n",
       "      <th></th>\n",
       "      <th>ip</th>\n",
       "      <th>app</th>\n",
       "      <th>device</th>\n",
       "      <th>os</th>\n",
       "      <th>channel</th>\n",
       "      <th>click_time</th>\n",
       "      <th>is_attributed</th>\n",
       "    </tr>\n",
       "  </thead>\n",
       "  <tbody>\n",
       "    <tr>\n",
       "      <th>184903885</th>\n",
       "      <td>121312</td>\n",
       "      <td>12</td>\n",
       "      <td>1</td>\n",
       "      <td>10</td>\n",
       "      <td>340</td>\n",
       "      <td>2017-11-09 16:00:00</td>\n",
       "      <td>0</td>\n",
       "    </tr>\n",
       "    <tr>\n",
       "      <th>184903886</th>\n",
       "      <td>46894</td>\n",
       "      <td>3</td>\n",
       "      <td>1</td>\n",
       "      <td>19</td>\n",
       "      <td>211</td>\n",
       "      <td>2017-11-09 16:00:00</td>\n",
       "      <td>0</td>\n",
       "    </tr>\n",
       "    <tr>\n",
       "      <th>184903887</th>\n",
       "      <td>320126</td>\n",
       "      <td>1</td>\n",
       "      <td>1</td>\n",
       "      <td>13</td>\n",
       "      <td>274</td>\n",
       "      <td>2017-11-09 16:00:00</td>\n",
       "      <td>0</td>\n",
       "    </tr>\n",
       "    <tr>\n",
       "      <th>184903888</th>\n",
       "      <td>189286</td>\n",
       "      <td>12</td>\n",
       "      <td>1</td>\n",
       "      <td>37</td>\n",
       "      <td>259</td>\n",
       "      <td>2017-11-09 16:00:00</td>\n",
       "      <td>0</td>\n",
       "    </tr>\n",
       "    <tr>\n",
       "      <th>184903889</th>\n",
       "      <td>106485</td>\n",
       "      <td>11</td>\n",
       "      <td>1</td>\n",
       "      <td>19</td>\n",
       "      <td>137</td>\n",
       "      <td>2017-11-09 16:00:00</td>\n",
       "      <td>0</td>\n",
       "    </tr>\n",
       "  </tbody>\n",
       "</table>\n",
       "</div>"
      ],
      "text/plain": [
       "               ip  app  device  os  channel          click_time  is_attributed\n",
       "184903885  121312   12       1  10      340 2017-11-09 16:00:00              0\n",
       "184903886   46894    3       1  19      211 2017-11-09 16:00:00              0\n",
       "184903887  320126    1       1  13      274 2017-11-09 16:00:00              0\n",
       "184903888  189286   12       1  37      259 2017-11-09 16:00:00              0\n",
       "184903889  106485   11       1  19      137 2017-11-09 16:00:00              0"
      ]
     },
     "execution_count": 19,
     "metadata": {},
     "output_type": "execute_result"
    }
   ],
   "source": [
    "train_df.tail()"
   ]
  },
  {
   "cell_type": "code",
   "execution_count": 12,
   "metadata": {},
   "outputs": [
    {
     "data": {
      "text/html": [
       "<div>\n",
       "<style scoped>\n",
       "    .dataframe tbody tr th:only-of-type {\n",
       "        vertical-align: middle;\n",
       "    }\n",
       "\n",
       "    .dataframe tbody tr th {\n",
       "        vertical-align: top;\n",
       "    }\n",
       "\n",
       "    .dataframe thead th {\n",
       "        text-align: right;\n",
       "    }\n",
       "</style>\n",
       "<table border=\"1\" class=\"dataframe\">\n",
       "  <thead>\n",
       "    <tr style=\"text-align: right;\">\n",
       "      <th></th>\n",
       "      <th>click_id</th>\n",
       "      <th>ip</th>\n",
       "      <th>app</th>\n",
       "      <th>device</th>\n",
       "      <th>os</th>\n",
       "      <th>channel</th>\n",
       "      <th>click_time</th>\n",
       "    </tr>\n",
       "  </thead>\n",
       "  <tbody>\n",
       "    <tr>\n",
       "      <th>0</th>\n",
       "      <td>0</td>\n",
       "      <td>5744</td>\n",
       "      <td>9</td>\n",
       "      <td>1</td>\n",
       "      <td>3</td>\n",
       "      <td>107</td>\n",
       "      <td>2017-11-10 04:00:00</td>\n",
       "    </tr>\n",
       "    <tr>\n",
       "      <th>1</th>\n",
       "      <td>1</td>\n",
       "      <td>119901</td>\n",
       "      <td>9</td>\n",
       "      <td>1</td>\n",
       "      <td>3</td>\n",
       "      <td>466</td>\n",
       "      <td>2017-11-10 04:00:00</td>\n",
       "    </tr>\n",
       "    <tr>\n",
       "      <th>2</th>\n",
       "      <td>2</td>\n",
       "      <td>72287</td>\n",
       "      <td>21</td>\n",
       "      <td>1</td>\n",
       "      <td>19</td>\n",
       "      <td>128</td>\n",
       "      <td>2017-11-10 04:00:00</td>\n",
       "    </tr>\n",
       "    <tr>\n",
       "      <th>3</th>\n",
       "      <td>3</td>\n",
       "      <td>78477</td>\n",
       "      <td>15</td>\n",
       "      <td>1</td>\n",
       "      <td>13</td>\n",
       "      <td>111</td>\n",
       "      <td>2017-11-10 04:00:00</td>\n",
       "    </tr>\n",
       "    <tr>\n",
       "      <th>4</th>\n",
       "      <td>4</td>\n",
       "      <td>123080</td>\n",
       "      <td>12</td>\n",
       "      <td>1</td>\n",
       "      <td>13</td>\n",
       "      <td>328</td>\n",
       "      <td>2017-11-10 04:00:00</td>\n",
       "    </tr>\n",
       "  </tbody>\n",
       "</table>\n",
       "</div>"
      ],
      "text/plain": [
       "   click_id      ip  app  device  os  channel          click_time\n",
       "0         0    5744    9       1   3      107 2017-11-10 04:00:00\n",
       "1         1  119901    9       1   3      466 2017-11-10 04:00:00\n",
       "2         2   72287   21       1  19      128 2017-11-10 04:00:00\n",
       "3         3   78477   15       1  13      111 2017-11-10 04:00:00\n",
       "4         4  123080   12       1  13      328 2017-11-10 04:00:00"
      ]
     },
     "execution_count": 12,
     "metadata": {},
     "output_type": "execute_result"
    }
   ],
   "source": [
    "test_df.head()"
   ]
  },
  {
   "cell_type": "code",
   "execution_count": 13,
   "metadata": {},
   "outputs": [
    {
     "name": "stdout",
     "output_type": "stream",
     "text": [
      "Train\n",
      "Number of unique ip: 277396\n",
      "Number of unique app: 706\n",
      "Number of unique device: 3475\n",
      "Number of unique os: 800\n",
      "Number of unique channel: 202\n",
      "\n",
      "Test\n",
      "Number of unique ip: 93936\n",
      "Number of unique app: 417\n",
      "Number of unique device: 1985\n",
      "Number of unique os: 395\n",
      "Number of unique channel: 178\n"
     ]
    }
   ],
   "source": [
    "# unique categories\n",
    "cols = ['ip', 'app', 'device', 'os', 'channel']\n",
    "print('Train')\n",
    "for col in cols:\n",
    "    print('Number of unique '+col+': '+str(train_df[col].nunique()))\n",
    "    \n",
    "print('\\nTest')\n",
    "for col in cols:\n",
    "    print('Number of unique '+col+': '+str(test_df[col].nunique()))"
   ]
  },
  {
   "cell_type": "code",
   "execution_count": 16,
   "metadata": {},
   "outputs": [
    {
     "name": "stdout",
     "output_type": "stream",
     "text": [
      "Proportion attributed: 0.002470721410998979\n"
     ]
    }
   ],
   "source": [
    "# proportion of attributed clicks in train\n",
    "print(\"Proportion attributed: \"+str(train_df.is_attributed.mean()))"
   ]
  },
  {
   "cell_type": "markdown",
   "metadata": {},
   "source": [
    "Very few of the entries are attributed."
   ]
  },
  {
   "cell_type": "code",
   "execution_count": 20,
   "metadata": {},
   "outputs": [
    {
     "data": {
      "image/png": "[encoded data removed]",
      "text/plain": [
       "<Figure size 432x288 with 1 Axes>"
      ]
     },
     "metadata": {
      "needs_background": "light"
     },
     "output_type": "display_data"
    }
   ],
   "source": [
    "# check click times distribution\n",
    "plt.hist(train_df.click_time, 50);"
   ]
  },
  {
   "cell_type": "markdown",
   "metadata": {},
   "source": [
    "Click times for three consecutive days in train"
   ]
  },
  {
   "cell_type": "code",
   "execution_count": 21,
   "metadata": {},
   "outputs": [
    {
     "data": {
      "image/png": "[encoded data removed]",
      "text/plain": [
       "<Figure size 432x288 with 1 Axes>"
      ]
     },
     "metadata": {
      "needs_background": "light"
     },
     "output_type": "display_data"
    }
   ],
   "source": [
    "# check click times distribution\n",
    "plt.hist(test_df.click_time, 50);"
   ]
  },
  {
   "cell_type": "markdown",
   "metadata": {},
   "source": [
    "Forth day in test set."
   ]
  },
  {
   "cell_type": "markdown",
   "metadata": {},
   "source": [
    "Are the click times sorted?"
   ]
  },
  {
   "cell_type": "code",
   "execution_count": 10,
   "metadata": {},
   "outputs": [
    {
     "data": {
      "text/plain": [
       "(True, True)"
      ]
     },
     "execution_count": 10,
     "metadata": {},
     "output_type": "execute_result"
    }
   ],
   "source": [
    "train_df.click_time.is_monotonic, test_df.click_time.is_monotonic"
   ]
  },
  {
   "cell_type": "markdown",
   "metadata": {},
   "source": [
    "click_time columns are sorted in the data frames"
   ]
  },
  {
   "cell_type": "markdown",
   "metadata": {},
   "source": [
    "### Sanity checks"
   ]
  },
  {
   "cell_type": "code",
   "execution_count": 14,
   "metadata": {},
   "outputs": [
    {
     "data": {
      "text/plain": [
       "ip                       uint32\n",
       "app                      uint16\n",
       "device                   uint16\n",
       "os                       uint16\n",
       "channel                  uint16\n",
       "click_time       datetime64[ns]\n",
       "is_attributed             uint8\n",
       "dtype: object"
      ]
     },
     "execution_count": 14,
     "metadata": {},
     "output_type": "execute_result"
    }
   ],
   "source": [
    "# dtypes\n",
    "train_df.dtypes"
   ]
  },
  {
   "cell_type": "code",
   "execution_count": 15,
   "metadata": {},
   "outputs": [
    {
     "data": {
      "text/plain": [
       "click_id              uint32\n",
       "ip                    uint32\n",
       "app                   uint16\n",
       "device                uint16\n",
       "os                    uint16\n",
       "channel               uint16\n",
       "click_time    datetime64[ns]\n",
       "dtype: object"
      ]
     },
     "execution_count": 15,
     "metadata": {},
     "output_type": "execute_result"
    }
   ],
   "source": [
    "test_df.dtypes"
   ]
  },
  {
   "cell_type": "markdown",
   "metadata": {},
   "source": [
    "Make sure there are no NaN values."
   ]
  },
  {
   "cell_type": "code",
   "execution_count": 7,
   "metadata": {
    "scrolled": true
   },
   "outputs": [
    {
     "data": {
      "text/plain": [
       "ip               0\n",
       "app              0\n",
       "device           0\n",
       "os               0\n",
       "channel          0\n",
       "click_time       0\n",
       "is_attributed    0\n",
       "dtype: int64"
      ]
     },
     "execution_count": 7,
     "metadata": {},
     "output_type": "execute_result"
    }
   ],
   "source": [
    "train_df.isna().sum()"
   ]
  },
  {
   "cell_type": "code",
   "execution_count": 8,
   "metadata": {},
   "outputs": [
    {
     "data": {
      "text/plain": [
       "click_id      0\n",
       "ip            0\n",
       "app           0\n",
       "device        0\n",
       "os            0\n",
       "channel       0\n",
       "click_time    0\n",
       "dtype: int64"
      ]
     },
     "execution_count": 8,
     "metadata": {},
     "output_type": "execute_result"
    }
   ],
   "source": [
    "test_df.isna().sum()"
   ]
  },
  {
   "cell_type": "markdown",
   "metadata": {},
   "source": [
    "## Feature Engineering"
   ]
  },
  {
   "cell_type": "markdown",
   "metadata": {},
   "source": [
    "### Downsampling of train data"
   ]
  },
  {
   "cell_type": "markdown",
   "metadata": {},
   "source": [
    "I have decided to apply the strategy of negative down-sampling on the train data as the winning team did in the competition:\n",
    "https://www.kaggle.com/c/talkingdata-adtracking-fraud-detection/discussion/56475#latest-436248\n",
    "\n",
    "This means that all the few data points classified as attributed are kept for model training, while an equal amount of negative points (i.e. not attributed) are randomly sampled from the rest of the train data. In this way the train data is shrinked to a manageable amount. "
   ]
  },
  {
   "cell_type": "code",
   "execution_count": 22,
   "metadata": {},
   "outputs": [],
   "source": [
    "# count number of attributed clicks\n",
    "attr_mask = train_df.is_attributed == 1\n",
    "nattr = attr_mask.sum()"
   ]
  },
  {
   "cell_type": "code",
   "execution_count": 23,
   "metadata": {},
   "outputs": [],
   "source": [
    "# keep the original train data set as it will be required for feature engineering\n",
    "original_train = train_df.reset_index()"
   ]
  },
  {
   "cell_type": "code",
   "execution_count": 24,
   "metadata": {},
   "outputs": [
    {
     "name": "stdout",
     "output_type": "stream",
     "text": [
      "Wall time: 3min 15s\n"
     ]
    }
   ],
   "source": [
    "%%time\n",
    "# downsample the non-attributed data to balance labels\n",
    "sample_train_df = original_train[original_train.is_attributed != 1].sample(n=nattr, random_state=1) #[:nattr]"
   ]
  },
  {
   "cell_type": "code",
   "execution_count": 25,
   "metadata": {},
   "outputs": [
    {
     "data": {
      "text/plain": [
       "52365"
      ]
     },
     "execution_count": 25,
     "metadata": {},
     "output_type": "execute_result"
    }
   ],
   "source": [
    "train_df = sample_train_df.append(original_train[attr_mask])\n",
    "train_df = train_df.sort_index()\n",
    "del sample_train_df\n",
    "gc.collect()"
   ]
  },
  {
   "cell_type": "code",
   "execution_count": 36,
   "metadata": {},
   "outputs": [
    {
     "name": "stdout",
     "output_type": "stream",
     "text": [
      "Size of downsampled train data set: 913692 rows\n"
     ]
    }
   ],
   "source": [
    "print(\"Size of downsampled train data set: \"+str(len(train_df))+\" rows\")"
   ]
  },
  {
   "cell_type": "markdown",
   "metadata": {},
   "source": [
    "### New features"
   ]
  },
  {
   "cell_type": "markdown",
   "metadata": {},
   "source": [
    "The feature selection was made based on information of what worked for other succesful competitors:\n",
    "https://www.kaggle.com/c/talkingdata-adtracking-fraud-detection/discussion/56406#latest-329920\n",
    "\n",
    "The most important feature seems to be the finite difference between adjacent click times (1 or 2 steps, backward or forward) in groups made on combinations of the cateogorical features. I implemented my own way of calculating the features below."
   ]
  },
  {
   "cell_type": "code",
   "execution_count": 37,
   "metadata": {},
   "outputs": [],
   "source": [
    "# features derived from groups of train data grouped by different combincations of columns\n",
    "def fe_group_by(df, cols):\n",
    "    \n",
    "    feat = []\n",
    "\n",
    "    # create group by\n",
    "    gb_times = df[cols+['click_time']].groupby(cols)\n",
    "    # calculate 1 step diff\n",
    "    time_diff_1 = (gb_times.click_time.shift(-1) - df.click_time).dt.seconds\n",
    "    gc.collect();\n",
    "    # add features\n",
    "    # 1 step forward difference\n",
    "    feat.append('time_1step_diff_' + '_'.join(cols))\n",
    "    df[feat[-1]] = time_diff_1\n",
    "    # 1 step backward difference\n",
    "    feat.append('time_-1step_diff_' + '_'.join(cols))\n",
    "    df[feat[-1]] = time_diff_1.shift(1)\n",
    "    # 2 step forward difference\n",
    "    feat.append('time_2step_diff_' + '_'.join(cols))\n",
    "    df[feat[-1]] = time_diff_1 + time_diff_1.shift(-1)\n",
    "    # 2 step backward difference\n",
    "    feat.append('time_-2step_diff_' + '_'.join(cols))\n",
    "    df[feat[-1]] = df['time_2step_diff_' + '_'.join(cols)].shift(2)\n",
    "    # click count\n",
    "    feat.append('click_count_' + '_'.join(cols))\n",
    "    df = df.merge(gb_times.click_time.count().rename(feat[-1]), how='left', on=cols) \n",
    "\n",
    "    gc.collect();\n",
    "    \n",
    "    return df, feat"
   ]
  },
  {
   "cell_type": "markdown",
   "metadata": {},
   "source": [
    "Because the randomly sampled data belongs to groups in the original data set, we need to work with the original data set to calculate the group level features of the selected rows. Therefore, a merge based on the columns on which the ggrouping is made is necessary.\n",
    "\n",
    "The size of the data makes it impossible to calculate the group features at once on my laptop. Therefore I decided to split the train data groups into chunks, then merge it with the original data and calulate group features on the chunks, in a serial way. This is feasible with the current computing resources.\n",
    "\n",
    "Once the features are calculated, another merge is made between the rows corresponding to the chunk in the downsampled set and the same rows in the chunk for which the features were calculated.\n",
    "\n",
    "From the click time, only the hour was kept as a feature for model training."
   ]
  },
  {
   "cell_type": "code",
   "execution_count": 27,
   "metadata": {},
   "outputs": [],
   "source": [
    "# features by which to split into groups\n",
    "group_by_cols = [\n",
    "    ['ip', 'os', 'device', 'app'],\n",
    "    ['ip', 'os', 'device', 'app', 'channel']\n",
    "]\n",
    "\n",
    "def fe(df, original, nchunks):\n",
    "    \n",
    "    predictors=['ip', 'app', 'device', 'os', 'channel']\n",
    "    \n",
    "    for cols in group_by_cols:\n",
    "        \n",
    "        groups = df[cols].drop_duplicates() # unique combinations of the categories in cols\n",
    "        chunks = np.array_split(groups, nchunks) # split into chunks used for group_by features\n",
    "        feat_chunks = []\n",
    "        \n",
    "        print(cols)\n",
    "        \n",
    "        for i, chunk in enumerate(chunks):\n",
    "            print('Chunk '+str(i))\n",
    "            # join chunk with the rest of the data\n",
    "            df_for_groupby = chunk.merge(original, how='left', on=cols)\n",
    "            print(\"Merge groups done...\")\n",
    "            gc.collect()\n",
    "            # calculate features of groups\n",
    "            df_for_groupby, ft = fe_group_by(df_for_groupby, cols)\n",
    "            print(\"Calculating features on groups done...\")\n",
    "            gc.collect()\n",
    "            # collect chunks of features\n",
    "            feat_chunks.append(chunk.merge(df, how='left', on=cols)\n",
    "                               .merge(df_for_groupby[ft+['index']], how='left',\n",
    "                                      on='index'))\n",
    "            print(\"Merge with train data done...\\n\")\n",
    "            del df_for_groupby\n",
    "            gc.collect()\n",
    "            \n",
    "        # update df\n",
    "        df = pd.concat(feat_chunks)\n",
    "        predictors += ft\n",
    "        \n",
    "    # hour as feature\n",
    "    df['hour'] = pd.to_datetime(df.click_time).dt.hour.astype('int8')\n",
    "    predictors.append('hour')\n",
    "\n",
    "    gc.collect();\n",
    "    \n",
    "    return df, predictors"
   ]
  },
  {
   "cell_type": "code",
   "execution_count": 30,
   "metadata": {},
   "outputs": [
    {
     "name": "stdout",
     "output_type": "stream",
     "text": [
      "['ip', 'os', 'device', 'app']\n",
      "Chunk 0\n",
      "Merge groups done...\n",
      "Calculating features on groups done...\n",
      "Merge with train data done...\n",
      "\n",
      "Chunk 1\n",
      "Merge groups done...\n",
      "Calculating features on groups done...\n",
      "Merge with train data done...\n",
      "\n",
      "Chunk 2\n",
      "Merge groups done...\n",
      "Calculating features on groups done...\n",
      "Merge with train data done...\n",
      "\n",
      "Chunk 3\n",
      "Merge groups done...\n",
      "Calculating features on groups done...\n",
      "Merge with train data done...\n",
      "\n",
      "Chunk 4\n",
      "Merge groups done...\n",
      "Calculating features on groups done...\n",
      "Merge with train data done...\n",
      "\n",
      "Chunk 5\n",
      "Merge groups done...\n",
      "Calculating features on groups done...\n",
      "Merge with train data done...\n",
      "\n",
      "Chunk 6\n",
      "Merge groups done...\n",
      "Calculating features on groups done...\n",
      "Merge with train data done...\n",
      "\n",
      "Chunk 7\n",
      "Merge groups done...\n",
      "Calculating features on groups done...\n",
      "Merge with train data done...\n",
      "\n",
      "Chunk 8\n",
      "Merge groups done...\n",
      "Calculating features on groups done...\n",
      "Merge with train data done...\n",
      "\n",
      "Chunk 9\n",
      "Merge groups done...\n",
      "Calculating features on groups done...\n",
      "Merge with train data done...\n",
      "\n",
      "Chunk 10\n",
      "Merge groups done...\n",
      "Calculating features on groups done...\n",
      "Merge with train data done...\n",
      "\n",
      "Chunk 11\n",
      "Merge groups done...\n",
      "Calculating features on groups done...\n",
      "Merge with train data done...\n",
      "\n",
      "['ip', 'os', 'device', 'app', 'channel']\n",
      "Chunk 0\n",
      "Merge groups done...\n",
      "Calculating features on groups done...\n",
      "Merge with train data done...\n",
      "\n",
      "Chunk 1\n",
      "Merge groups done...\n",
      "Calculating features on groups done...\n",
      "Merge with train data done...\n",
      "\n",
      "Chunk 2\n",
      "Merge groups done...\n",
      "Calculating features on groups done...\n",
      "Merge with train data done...\n",
      "\n",
      "Chunk 3\n",
      "Merge groups done...\n",
      "Calculating features on groups done...\n",
      "Merge with train data done...\n",
      "\n",
      "Chunk 4\n",
      "Merge groups done...\n",
      "Calculating features on groups done...\n",
      "Merge with train data done...\n",
      "\n",
      "Chunk 5\n",
      "Merge groups done...\n",
      "Calculating features on groups done...\n",
      "Merge with train data done...\n",
      "\n",
      "Chunk 6\n",
      "Merge groups done...\n",
      "Calculating features on groups done...\n",
      "Merge with train data done...\n",
      "\n",
      "Chunk 7\n",
      "Merge groups done...\n",
      "Calculating features on groups done...\n",
      "Merge with train data done...\n",
      "\n",
      "Chunk 8\n",
      "Merge groups done...\n",
      "Calculating features on groups done...\n",
      "Merge with train data done...\n",
      "\n",
      "Chunk 9\n",
      "Merge groups done...\n",
      "Calculating features on groups done...\n",
      "Merge with train data done...\n",
      "\n",
      "Chunk 10\n",
      "Merge groups done...\n",
      "Calculating features on groups done...\n",
      "Merge with train data done...\n",
      "\n",
      "Chunk 11\n",
      "Merge groups done...\n",
      "Calculating features on groups done...\n",
      "Merge with train data done...\n",
      "\n",
      "Wall time: 36min 17s\n"
     ]
    }
   ],
   "source": [
    "%%time\n",
    "train_df, predictors = fe(train_df, original_train, 12)"
   ]
  },
  {
   "cell_type": "code",
   "execution_count": 43,
   "metadata": {},
   "outputs": [
    {
     "name": "stdout",
     "output_type": "stream",
     "text": [
      "Predictors used for training:  \n",
      "ip \n",
      "app \n",
      "device \n",
      "os \n",
      "channel \n",
      "time_1step_diff_ip_os_device_app \n",
      "time_-1step_diff_ip_os_device_app \n",
      "time_2step_diff_ip_os_device_app \n",
      "time_-2step_diff_ip_os_device_app \n",
      "click_count_ip_os_device_app \n",
      "time_1step_diff_ip_os_device_app_channel \n",
      "time_-1step_diff_ip_os_device_app_channel \n",
      "time_2step_diff_ip_os_device_app_channel \n",
      "time_-2step_diff_ip_os_device_app_channel \n",
      "click_count_ip_os_device_app_channel \n",
      "hour\n"
     ]
    }
   ],
   "source": [
    "print(\"Predictors used for training: \", *['\\n'+p for p in predictors])"
   ]
  },
  {
   "cell_type": "code",
   "execution_count": 32,
   "metadata": {},
   "outputs": [],
   "source": [
    "with open('train_df.pickle','wb') as pckl_file:\n",
    "    pickle.dump(train_df, pckl_file)"
   ]
  },
  {
   "cell_type": "code",
   "execution_count": 33,
   "metadata": {},
   "outputs": [
    {
     "name": "stdout",
     "output_type": "stream",
     "text": [
      "['ip', 'os', 'device', 'app']\n",
      "Chunk 0\n",
      "Merge groups done...\n",
      "Calculating features on groups done...\n",
      "Merge with train data done...\n",
      "\n",
      "['ip', 'os', 'device', 'app', 'channel']\n",
      "Chunk 0\n",
      "Merge groups done...\n",
      "Calculating features on groups done...\n",
      "Merge with train data done...\n",
      "\n",
      "Wall time: 2min 22s\n"
     ]
    },
    {
     "data": {
      "text/plain": [
       "28"
      ]
     },
     "execution_count": 33,
     "metadata": {},
     "output_type": "execute_result"
    }
   ],
   "source": [
    "%%time\n",
    "test_df.reset_index(inplace=True)\n",
    "test_df, feat = fe(test_df, test_df, 1)\n",
    "gc.collect();"
   ]
  },
  {
   "cell_type": "code",
   "execution_count": 34,
   "metadata": {},
   "outputs": [],
   "source": [
    "with open('test_df.pickle','wb') as pckl_file:\n",
    "    pickle.dump(test_df, pckl_file)"
   ]
  },
  {
   "cell_type": "code",
   "execution_count": 41,
   "metadata": {},
   "outputs": [],
   "source": [
    "with open('predictors.pickle','wb') as pckl_file:\n",
    "    pickle.dump(predictors, pckl_file)"
   ]
  },
  {
   "cell_type": "code",
   "execution_count": 35,
   "metadata": {},
   "outputs": [
    {
     "data": {
      "text/plain": [
       "0"
      ]
     },
     "execution_count": 35,
     "metadata": {},
     "output_type": "execute_result"
    }
   ],
   "source": [
    "gc.collect()"
   ]
  },
  {
   "cell_type": "markdown",
   "metadata": {},
   "source": [
    "## Model creation"
   ]
  },
  {
   "cell_type": "markdown",
   "metadata": {},
   "source": [
    "The model used is LGBM with parameters set as in:\n",
    "https://www.kaggle.com/asraful70/notebook-version-of-talkingdata-lb-0-9786"
   ]
  },
  {
   "cell_type": "code",
   "execution_count": 2,
   "metadata": {},
   "outputs": [],
   "source": [
    "with open('train_df.pickle','rb') as pckl_file:\n",
    "    train_df = pickle.load(pckl_file)"
   ]
  },
  {
   "cell_type": "code",
   "execution_count": 3,
   "metadata": {},
   "outputs": [],
   "source": [
    "with open('test_df.pickle','rb') as pckl_file:\n",
    "    test_df = pickle.load(pckl_file)"
   ]
  },
  {
   "cell_type": "code",
   "execution_count": 42,
   "metadata": {},
   "outputs": [],
   "source": [
    "with open('predictors.pickle','rb') as pckl_file:\n",
    "    predictors = pickle.load(pckl_file)"
   ]
  },
  {
   "cell_type": "code",
   "execution_count": 44,
   "metadata": {},
   "outputs": [
    {
     "name": "stdout",
     "output_type": "stream",
     "text": [
      "Wall time: 10.6 s\n"
     ]
    },
    {
     "data": {
      "text/plain": [
       "(True, True)"
      ]
     },
     "execution_count": 44,
     "metadata": {},
     "output_type": "execute_result"
    }
   ],
   "source": [
    "%%time\n",
    "# make sure data is in chronological order \n",
    "train_df = train_df.set_index('index').sort_index()\n",
    "test_df = test_df.set_index('index').sort_index()\n",
    "train_df.click_time.is_monotonic, test_df.click_time.is_monotonic"
   ]
  },
  {
   "cell_type": "markdown",
   "metadata": {},
   "source": [
    "### Train-validation split\n",
    "Because this is a time series, the train and validation sets must be contiguous in time to avoid learning time dependencies. Also, the validation is taken from a time later than the train set. (https://machinelearningmastery.com/backtest-machine-learning-models-time-series-forecasting/)"
   ]
  },
  {
   "cell_type": "code",
   "execution_count": 45,
   "metadata": {},
   "outputs": [],
   "source": [
    "val_size=50000 # from the end of the set because ordered chronologically\n",
    "\n",
    "len_train = len(train_df)\n",
    "\n",
    "val_df = train_df[(len_train-val_size):len_train]\n",
    "train_df = train_df[:(len_train-val_size)]"
   ]
  },
  {
   "cell_type": "code",
   "execution_count": 46,
   "metadata": {
    "collapsed": true
   },
   "outputs": [
    {
     "name": "stderr",
     "output_type": "stream",
     "text": [
      "C:\\Users\\Victor\\Anaconda3\\lib\\site-packages\\lightgbm\\basic.py:1184: UserWarning: Using categorical_feature in Dataset.\n",
      "  warnings.warn('Using categorical_feature in Dataset.')\n",
      "C:\\Users\\Victor\\Anaconda3\\lib\\site-packages\\lightgbm\\basic.py:742: UserWarning: categorical_feature in param dict is overridden.\n",
      "  warnings.warn('categorical_feature in param dict is overridden.')\n"
     ]
    },
    {
     "name": "stdout",
     "output_type": "stream",
     "text": [
      "[1]\tvalid's auc: 0.960677\n",
      "Training until validation scores don't improve for 30 rounds.\n",
      "[2]\tvalid's auc: 0.963806\n",
      "[3]\tvalid's auc: 0.964974\n",
      "[4]\tvalid's auc: 0.965103\n",
      "[5]\tvalid's auc: 0.965384\n",
      "[6]\tvalid's auc: 0.965751\n",
      "[7]\tvalid's auc: 0.966609\n",
      "[8]\tvalid's auc: 0.967945\n",
      "[9]\tvalid's auc: 0.969357\n",
      "[10]\tvalid's auc: 0.969682\n",
      "[11]\tvalid's auc: 0.970142\n",
      "[12]\tvalid's auc: 0.970677\n",
      "[13]\tvalid's auc: 0.971335\n",
      "[14]\tvalid's auc: 0.971764\n",
      "[15]\tvalid's auc: 0.972592\n",
      "[16]\tvalid's auc: 0.972815\n",
      "[17]\tvalid's auc: 0.973823\n",
      "[18]\tvalid's auc: 0.973891\n",
      "[19]\tvalid's auc: 0.974188\n",
      "[20]\tvalid's auc: 0.974393\n",
      "[21]\tvalid's auc: 0.974648\n",
      "[22]\tvalid's auc: 0.975429\n",
      "[23]\tvalid's auc: 0.975621\n",
      "[24]\tvalid's auc: 0.975786\n",
      "[25]\tvalid's auc: 0.975996\n",
      "[26]\tvalid's auc: 0.975966\n",
      "[27]\tvalid's auc: 0.976191\n",
      "[28]\tvalid's auc: 0.976582\n",
      "[29]\tvalid's auc: 0.976849\n",
      "[30]\tvalid's auc: 0.977042\n",
      "[31]\tvalid's auc: 0.977251\n",
      "[32]\tvalid's auc: 0.977497\n",
      "[33]\tvalid's auc: 0.977653\n",
      "[34]\tvalid's auc: 0.977842\n",
      "[35]\tvalid's auc: 0.978064\n",
      "[36]\tvalid's auc: 0.978163\n",
      "[37]\tvalid's auc: 0.978401\n",
      "[38]\tvalid's auc: 0.978519\n",
      "[39]\tvalid's auc: 0.978606\n",
      "[40]\tvalid's auc: 0.978717\n",
      "[41]\tvalid's auc: 0.978919\n",
      "[42]\tvalid's auc: 0.979144\n",
      "[43]\tvalid's auc: 0.979285\n",
      "[44]\tvalid's auc: 0.97936\n",
      "[45]\tvalid's auc: 0.979469\n",
      "[46]\tvalid's auc: 0.979578\n",
      "[47]\tvalid's auc: 0.979717\n",
      "[48]\tvalid's auc: 0.98013\n",
      "[49]\tvalid's auc: 0.98022\n",
      "[50]\tvalid's auc: 0.980255\n",
      "[51]\tvalid's auc: 0.980376\n",
      "[52]\tvalid's auc: 0.980454\n",
      "[53]\tvalid's auc: 0.980601\n",
      "[54]\tvalid's auc: 0.980663\n",
      "[55]\tvalid's auc: 0.980785\n",
      "[56]\tvalid's auc: 0.980845\n",
      "[57]\tvalid's auc: 0.981126\n",
      "[58]\tvalid's auc: 0.981223\n",
      "[59]\tvalid's auc: 0.981276\n",
      "[60]\tvalid's auc: 0.981361\n",
      "[61]\tvalid's auc: 0.981428\n",
      "[62]\tvalid's auc: 0.981433\n",
      "[63]\tvalid's auc: 0.981495\n",
      "[64]\tvalid's auc: 0.981574\n",
      "[65]\tvalid's auc: 0.981618\n",
      "[66]\tvalid's auc: 0.981679\n",
      "[67]\tvalid's auc: 0.981693\n",
      "[68]\tvalid's auc: 0.981768\n",
      "[69]\tvalid's auc: 0.981791\n",
      "[70]\tvalid's auc: 0.981805\n",
      "[71]\tvalid's auc: 0.981813\n",
      "[72]\tvalid's auc: 0.981868\n",
      "[73]\tvalid's auc: 0.981901\n",
      "[74]\tvalid's auc: 0.981913\n",
      "[75]\tvalid's auc: 0.981925\n",
      "[76]\tvalid's auc: 0.981941\n",
      "[77]\tvalid's auc: 0.98216\n",
      "[78]\tvalid's auc: 0.982249\n",
      "[79]\tvalid's auc: 0.982282\n",
      "[80]\tvalid's auc: 0.982287\n",
      "[81]\tvalid's auc: 0.982313\n",
      "[82]\tvalid's auc: 0.982333\n",
      "[83]\tvalid's auc: 0.982353\n",
      "[84]\tvalid's auc: 0.982374\n",
      "[85]\tvalid's auc: 0.982448\n",
      "[86]\tvalid's auc: 0.982436\n",
      "[87]\tvalid's auc: 0.982458\n",
      "[88]\tvalid's auc: 0.982465\n",
      "[89]\tvalid's auc: 0.982465\n",
      "[90]\tvalid's auc: 0.982496\n",
      "[91]\tvalid's auc: 0.982514\n",
      "[92]\tvalid's auc: 0.982533\n",
      "[93]\tvalid's auc: 0.982534\n",
      "[94]\tvalid's auc: 0.982604\n",
      "[95]\tvalid's auc: 0.982611\n",
      "[96]\tvalid's auc: 0.98263\n",
      "[97]\tvalid's auc: 0.982634\n",
      "[98]\tvalid's auc: 0.982641\n",
      "[99]\tvalid's auc: 0.982659\n",
      "[100]\tvalid's auc: 0.982677\n",
      "[101]\tvalid's auc: 0.982692\n",
      "[102]\tvalid's auc: 0.982694\n",
      "[103]\tvalid's auc: 0.982775\n",
      "[104]\tvalid's auc: 0.982791\n",
      "[105]\tvalid's auc: 0.982803\n",
      "[106]\tvalid's auc: 0.982817\n",
      "[107]\tvalid's auc: 0.982819\n",
      "[108]\tvalid's auc: 0.982873\n",
      "[109]\tvalid's auc: 0.982865\n",
      "[110]\tvalid's auc: 0.982863\n",
      "[111]\tvalid's auc: 0.982871\n",
      "[112]\tvalid's auc: 0.982873\n",
      "[113]\tvalid's auc: 0.982885\n",
      "[114]\tvalid's auc: 0.982872\n",
      "[115]\tvalid's auc: 0.982901\n",
      "[116]\tvalid's auc: 0.98291\n",
      "[117]\tvalid's auc: 0.982924\n",
      "[118]\tvalid's auc: 0.982926\n",
      "[119]\tvalid's auc: 0.982923\n",
      "[120]\tvalid's auc: 0.982909\n",
      "[121]\tvalid's auc: 0.982911\n",
      "[122]\tvalid's auc: 0.982924\n",
      "[123]\tvalid's auc: 0.982917\n",
      "[124]\tvalid's auc: 0.982921\n",
      "[125]\tvalid's auc: 0.982932\n",
      "[126]\tvalid's auc: 0.982935\n",
      "[127]\tvalid's auc: 0.982939\n",
      "[128]\tvalid's auc: 0.982993\n",
      "[129]\tvalid's auc: 0.983008\n",
      "[130]\tvalid's auc: 0.983059\n",
      "[131]\tvalid's auc: 0.98306\n",
      "[132]\tvalid's auc: 0.983049\n",
      "[133]\tvalid's auc: 0.983052\n",
      "[134]\tvalid's auc: 0.983055\n",
      "[135]\tvalid's auc: 0.983069\n",
      "[136]\tvalid's auc: 0.983069\n",
      "[137]\tvalid's auc: 0.983067\n",
      "[138]\tvalid's auc: 0.983064\n",
      "[139]\tvalid's auc: 0.983109\n",
      "[140]\tvalid's auc: 0.983113\n",
      "[141]\tvalid's auc: 0.983125\n",
      "[142]\tvalid's auc: 0.983135\n",
      "[143]\tvalid's auc: 0.983151\n",
      "[144]\tvalid's auc: 0.983174\n",
      "[145]\tvalid's auc: 0.983181\n",
      "[146]\tvalid's auc: 0.983185\n",
      "[147]\tvalid's auc: 0.983198\n",
      "[148]\tvalid's auc: 0.983182\n",
      "[149]\tvalid's auc: 0.983181\n",
      "[150]\tvalid's auc: 0.983184\n",
      "[151]\tvalid's auc: 0.983186\n",
      "[152]\tvalid's auc: 0.98319\n",
      "[153]\tvalid's auc: 0.983209\n",
      "[154]\tvalid's auc: 0.983228\n",
      "[155]\tvalid's auc: 0.983218\n",
      "[156]\tvalid's auc: 0.983231\n",
      "[157]\tvalid's auc: 0.983224\n",
      "[158]\tvalid's auc: 0.983234\n",
      "[159]\tvalid's auc: 0.983263\n",
      "[160]\tvalid's auc: 0.983262\n",
      "[161]\tvalid's auc: 0.983264\n",
      "[162]\tvalid's auc: 0.983264\n",
      "[163]\tvalid's auc: 0.983395\n",
      "[164]\tvalid's auc: 0.983396\n",
      "[165]\tvalid's auc: 0.983408\n",
      "[166]\tvalid's auc: 0.98342\n",
      "[167]\tvalid's auc: 0.983423\n",
      "[168]\tvalid's auc: 0.98343\n",
      "[169]\tvalid's auc: 0.983445\n",
      "[170]\tvalid's auc: 0.983448\n",
      "[171]\tvalid's auc: 0.983448\n",
      "[172]\tvalid's auc: 0.983446\n",
      "[173]\tvalid's auc: 0.983438\n",
      "[174]\tvalid's auc: 0.983454\n",
      "[175]\tvalid's auc: 0.983448\n",
      "[176]\tvalid's auc: 0.983453\n",
      "[177]\tvalid's auc: 0.983452\n",
      "[178]\tvalid's auc: 0.983458\n",
      "[179]\tvalid's auc: 0.98345\n",
      "[180]\tvalid's auc: 0.983453\n",
      "[181]\tvalid's auc: 0.983453\n",
      "[182]\tvalid's auc: 0.983454\n",
      "[183]\tvalid's auc: 0.983457\n",
      "[184]\tvalid's auc: 0.983456\n",
      "[185]\tvalid's auc: 0.983457\n",
      "[186]\tvalid's auc: 0.983481\n",
      "[187]\tvalid's auc: 0.98349\n",
      "[188]\tvalid's auc: 0.983533\n",
      "[189]\tvalid's auc: 0.983534\n",
      "[190]\tvalid's auc: 0.983536\n",
      "[191]\tvalid's auc: 0.983534\n",
      "[192]\tvalid's auc: 0.983539\n",
      "[193]\tvalid's auc: 0.983541\n",
      "[194]\tvalid's auc: 0.983542\n",
      "[195]\tvalid's auc: 0.983539\n",
      "[196]\tvalid's auc: 0.983557\n",
      "[197]\tvalid's auc: 0.983559\n",
      "[198]\tvalid's auc: 0.983561\n",
      "[199]\tvalid's auc: 0.983561\n",
      "[200]\tvalid's auc: 0.983552\n",
      "[201]\tvalid's auc: 0.98355\n",
      "[202]\tvalid's auc: 0.983559\n",
      "[203]\tvalid's auc: 0.983561\n",
      "[204]\tvalid's auc: 0.983571\n",
      "[205]\tvalid's auc: 0.983705\n",
      "[206]\tvalid's auc: 0.983709\n",
      "[207]\tvalid's auc: 0.983726\n",
      "[208]\tvalid's auc: 0.983724\n",
      "[209]\tvalid's auc: 0.983725\n",
      "[210]\tvalid's auc: 0.983725\n",
      "[211]\tvalid's auc: 0.983724\n",
      "[212]\tvalid's auc: 0.983755\n",
      "[213]\tvalid's auc: 0.983765\n",
      "[214]\tvalid's auc: 0.983752\n",
      "[215]\tvalid's auc: 0.98375\n",
      "[216]\tvalid's auc: 0.983753\n",
      "[217]\tvalid's auc: 0.983755\n",
      "[218]\tvalid's auc: 0.983759\n",
      "[219]\tvalid's auc: 0.983757\n",
      "[220]\tvalid's auc: 0.983763\n",
      "[221]\tvalid's auc: 0.983767\n",
      "[222]\tvalid's auc: 0.983764\n",
      "[223]\tvalid's auc: 0.98376\n",
      "[224]\tvalid's auc: 0.983768\n",
      "[225]\tvalid's auc: 0.98377\n",
      "[226]\tvalid's auc: 0.983768\n",
      "[227]\tvalid's auc: 0.983772\n",
      "[228]\tvalid's auc: 0.983796\n",
      "[229]\tvalid's auc: 0.983782\n",
      "[230]\tvalid's auc: 0.983784\n",
      "[231]\tvalid's auc: 0.983784\n",
      "[232]\tvalid's auc: 0.983775\n",
      "[233]\tvalid's auc: 0.98378\n",
      "[234]\tvalid's auc: 0.983778\n",
      "[235]\tvalid's auc: 0.983778\n",
      "[236]\tvalid's auc: 0.983795\n",
      "[237]\tvalid's auc: 0.9838\n",
      "[238]\tvalid's auc: 0.983799\n",
      "[239]\tvalid's auc: 0.983802\n",
      "[240]\tvalid's auc: 0.983812\n",
      "[241]\tvalid's auc: 0.983811\n",
      "[242]\tvalid's auc: 0.983819\n",
      "[243]\tvalid's auc: 0.98382\n",
      "[244]\tvalid's auc: 0.983819\n",
      "[245]\tvalid's auc: 0.983817\n",
      "[246]\tvalid's auc: 0.983818\n",
      "[247]\tvalid's auc: 0.983816\n",
      "[248]\tvalid's auc: 0.983814\n",
      "[249]\tvalid's auc: 0.983815\n",
      "[250]\tvalid's auc: 0.983817\n",
      "[251]\tvalid's auc: 0.983815\n",
      "[252]\tvalid's auc: 0.983819\n",
      "[253]\tvalid's auc: 0.98382\n",
      "[254]\tvalid's auc: 0.983812\n",
      "[255]\tvalid's auc: 0.983819\n",
      "[256]\tvalid's auc: 0.983826\n",
      "[257]\tvalid's auc: 0.98385\n",
      "[258]\tvalid's auc: 0.984002\n",
      "[259]\tvalid's auc: 0.984\n",
      "[260]\tvalid's auc: 0.984024\n",
      "[261]\tvalid's auc: 0.984016\n",
      "[262]\tvalid's auc: 0.984016\n",
      "[263]\tvalid's auc: 0.984017\n",
      "[264]\tvalid's auc: 0.984052\n",
      "[265]\tvalid's auc: 0.984051\n",
      "[266]\tvalid's auc: 0.984048\n",
      "[267]\tvalid's auc: 0.984062\n",
      "[268]\tvalid's auc: 0.984063\n",
      "[269]\tvalid's auc: 0.984063\n",
      "[270]\tvalid's auc: 0.984058\n",
      "[271]\tvalid's auc: 0.984061\n",
      "[272]\tvalid's auc: 0.984062\n",
      "[273]\tvalid's auc: 0.984065\n",
      "[274]\tvalid's auc: 0.984136\n",
      "[275]\tvalid's auc: 0.984143\n",
      "[276]\tvalid's auc: 0.984146\n",
      "[277]\tvalid's auc: 0.984148\n",
      "[278]\tvalid's auc: 0.984147\n",
      "[279]\tvalid's auc: 0.984153\n",
      "[280]\tvalid's auc: 0.984146\n",
      "[281]\tvalid's auc: 0.984149\n",
      "[282]\tvalid's auc: 0.984147\n",
      "[283]\tvalid's auc: 0.984149\n",
      "[284]\tvalid's auc: 0.984148\n",
      "[285]\tvalid's auc: 0.98416\n",
      "[286]\tvalid's auc: 0.984159\n",
      "[287]\tvalid's auc: 0.984175\n",
      "[288]\tvalid's auc: 0.984172\n",
      "[289]\tvalid's auc: 0.984173\n",
      "[290]\tvalid's auc: 0.984174\n",
      "[291]\tvalid's auc: 0.984174\n",
      "[292]\tvalid's auc: 0.984176\n",
      "[293]\tvalid's auc: 0.984176\n",
      "[294]\tvalid's auc: 0.984171\n",
      "[295]\tvalid's auc: 0.984173\n"
     ]
    },
    {
     "name": "stdout",
     "output_type": "stream",
     "text": [
      "[296]\tvalid's auc: 0.984172\n",
      "[297]\tvalid's auc: 0.984174\n",
      "[298]\tvalid's auc: 0.984174\n",
      "[299]\tvalid's auc: 0.984184\n",
      "[300]\tvalid's auc: 0.984179\n",
      "[301]\tvalid's auc: 0.98419\n",
      "[302]\tvalid's auc: 0.984182\n",
      "[303]\tvalid's auc: 0.984184\n",
      "[304]\tvalid's auc: 0.984181\n",
      "[305]\tvalid's auc: 0.984194\n",
      "[306]\tvalid's auc: 0.984194\n",
      "[307]\tvalid's auc: 0.984192\n",
      "[308]\tvalid's auc: 0.984193\n",
      "[309]\tvalid's auc: 0.984195\n",
      "[310]\tvalid's auc: 0.984195\n",
      "[311]\tvalid's auc: 0.984201\n",
      "[312]\tvalid's auc: 0.984196\n",
      "[313]\tvalid's auc: 0.984194\n",
      "[314]\tvalid's auc: 0.984194\n",
      "[315]\tvalid's auc: 0.984189\n",
      "[316]\tvalid's auc: 0.984319\n",
      "[317]\tvalid's auc: 0.984322\n",
      "[318]\tvalid's auc: 0.98446\n",
      "[319]\tvalid's auc: 0.984464\n",
      "[320]\tvalid's auc: 0.984452\n",
      "[321]\tvalid's auc: 0.984455\n",
      "[322]\tvalid's auc: 0.984461\n",
      "[323]\tvalid's auc: 0.984462\n",
      "[324]\tvalid's auc: 0.984464\n",
      "[325]\tvalid's auc: 0.984459\n",
      "[326]\tvalid's auc: 0.984462\n",
      "[327]\tvalid's auc: 0.984462\n",
      "[328]\tvalid's auc: 0.984461\n",
      "[329]\tvalid's auc: 0.984468\n",
      "[330]\tvalid's auc: 0.984471\n",
      "[331]\tvalid's auc: 0.984469\n",
      "[332]\tvalid's auc: 0.98448\n",
      "[333]\tvalid's auc: 0.98448\n",
      "[334]\tvalid's auc: 0.984483\n",
      "[335]\tvalid's auc: 0.984483\n",
      "[336]\tvalid's auc: 0.984482\n",
      "[337]\tvalid's auc: 0.984479\n",
      "[338]\tvalid's auc: 0.984479\n",
      "[339]\tvalid's auc: 0.984473\n",
      "[340]\tvalid's auc: 0.984475\n",
      "[341]\tvalid's auc: 0.984477\n",
      "[342]\tvalid's auc: 0.984479\n",
      "[343]\tvalid's auc: 0.984477\n",
      "[344]\tvalid's auc: 0.984476\n",
      "[345]\tvalid's auc: 0.984476\n",
      "[346]\tvalid's auc: 0.984475\n",
      "[347]\tvalid's auc: 0.984475\n",
      "[348]\tvalid's auc: 0.984482\n",
      "[349]\tvalid's auc: 0.984493\n",
      "[350]\tvalid's auc: 0.984494\n",
      "[351]\tvalid's auc: 0.984504\n",
      "[352]\tvalid's auc: 0.984508\n",
      "[353]\tvalid's auc: 0.984507\n",
      "[354]\tvalid's auc: 0.984506\n",
      "[355]\tvalid's auc: 0.984506\n",
      "[356]\tvalid's auc: 0.984508\n",
      "[357]\tvalid's auc: 0.984507\n",
      "[358]\tvalid's auc: 0.984503\n",
      "[359]\tvalid's auc: 0.984523\n",
      "[360]\tvalid's auc: 0.984525\n",
      "[361]\tvalid's auc: 0.984531\n",
      "[362]\tvalid's auc: 0.98453\n",
      "[363]\tvalid's auc: 0.984532\n",
      "[364]\tvalid's auc: 0.984532\n",
      "[365]\tvalid's auc: 0.98453\n",
      "[366]\tvalid's auc: 0.984527\n",
      "[367]\tvalid's auc: 0.984529\n",
      "[368]\tvalid's auc: 0.98453\n",
      "[369]\tvalid's auc: 0.984529\n",
      "[370]\tvalid's auc: 0.984524\n",
      "[371]\tvalid's auc: 0.984523\n",
      "[372]\tvalid's auc: 0.984524\n",
      "[373]\tvalid's auc: 0.984537\n",
      "[374]\tvalid's auc: 0.984539\n",
      "[375]\tvalid's auc: 0.984537\n",
      "[376]\tvalid's auc: 0.984537\n",
      "[377]\tvalid's auc: 0.98454\n",
      "[378]\tvalid's auc: 0.98454\n",
      "[379]\tvalid's auc: 0.984532\n",
      "[380]\tvalid's auc: 0.984532\n",
      "[381]\tvalid's auc: 0.984533\n",
      "[382]\tvalid's auc: 0.984534\n",
      "[383]\tvalid's auc: 0.984535\n",
      "[384]\tvalid's auc: 0.984536\n",
      "[385]\tvalid's auc: 0.984537\n",
      "[386]\tvalid's auc: 0.984533\n",
      "[387]\tvalid's auc: 0.984531\n",
      "[388]\tvalid's auc: 0.984532\n",
      "[389]\tvalid's auc: 0.984562\n",
      "[390]\tvalid's auc: 0.984561\n",
      "[391]\tvalid's auc: 0.984571\n",
      "[392]\tvalid's auc: 0.984579\n",
      "[393]\tvalid's auc: 0.984584\n",
      "[394]\tvalid's auc: 0.98458\n",
      "[395]\tvalid's auc: 0.984579\n",
      "[396]\tvalid's auc: 0.984577\n",
      "[397]\tvalid's auc: 0.984578\n",
      "[398]\tvalid's auc: 0.98458\n",
      "[399]\tvalid's auc: 0.984577\n",
      "[400]\tvalid's auc: 0.984569\n",
      "[401]\tvalid's auc: 0.984574\n",
      "[402]\tvalid's auc: 0.984578\n",
      "[403]\tvalid's auc: 0.984577\n",
      "[404]\tvalid's auc: 0.984577\n",
      "[405]\tvalid's auc: 0.984579\n",
      "[406]\tvalid's auc: 0.984592\n",
      "[407]\tvalid's auc: 0.984591\n",
      "[408]\tvalid's auc: 0.984589\n",
      "[409]\tvalid's auc: 0.984577\n",
      "[410]\tvalid's auc: 0.984578\n",
      "[411]\tvalid's auc: 0.984576\n",
      "[412]\tvalid's auc: 0.984576\n",
      "[413]\tvalid's auc: 0.984581\n",
      "[414]\tvalid's auc: 0.984577\n",
      "[415]\tvalid's auc: 0.984578\n",
      "[416]\tvalid's auc: 0.984576\n",
      "[417]\tvalid's auc: 0.984576\n",
      "[418]\tvalid's auc: 0.984569\n",
      "[419]\tvalid's auc: 0.984562\n",
      "[420]\tvalid's auc: 0.984561\n",
      "[421]\tvalid's auc: 0.984569\n",
      "[422]\tvalid's auc: 0.984568\n",
      "[423]\tvalid's auc: 0.984567\n",
      "[424]\tvalid's auc: 0.984567\n",
      "[425]\tvalid's auc: 0.984568\n",
      "[426]\tvalid's auc: 0.984569\n",
      "[427]\tvalid's auc: 0.984578\n",
      "[428]\tvalid's auc: 0.984574\n",
      "[429]\tvalid's auc: 0.984574\n",
      "[430]\tvalid's auc: 0.984575\n",
      "[431]\tvalid's auc: 0.984574\n",
      "[432]\tvalid's auc: 0.984574\n",
      "[433]\tvalid's auc: 0.984572\n",
      "[434]\tvalid's auc: 0.984576\n",
      "[435]\tvalid's auc: 0.984576\n",
      "[436]\tvalid's auc: 0.984572\n",
      "Early stopping, best iteration is:\n",
      "[406]\tvalid's auc: 0.984592\n",
      "Wall time: 31.3 s\n"
     ]
    }
   ],
   "source": [
    "%%time\n",
    "categorical = ['ip', 'os', 'device', 'app', 'channel']\n",
    "target = 'is_attributed'\n",
    "\n",
    "xgtrain = lgb.Dataset(train_df[predictors].values, \n",
    "                      label=train_df[target].values,\n",
    "                      feature_name=predictors,\n",
    "                      categorical_feature=categorical\n",
    "                      )\n",
    "xgvalid = lgb.Dataset(val_df[predictors].values, \n",
    "                      label=val_df[target].values,\n",
    "                      feature_name=predictors,\n",
    "                      categorical_feature=categorical\n",
    "                      )\n",
    "\n",
    "gc.collect()\n",
    "\n",
    "params = {\n",
    "    'learning_rate': 0.10,\n",
    "    'num_leaves': 16, \n",
    "    'max_depth': 6, \n",
    "    'min_child_samples': 100,  # Minimum number of data need in a child(min_data_in_leaf)\n",
    "    'objective': 'binary',\n",
    "    'metric': 'auc',\n",
    "}\n",
    "\n",
    "num_boost_round = 1000\n",
    "\n",
    "bst = lgb.train(params, \n",
    "                xgtrain, \n",
    "                valid_sets=[ xgvalid], \n",
    "                valid_names=['valid'], \n",
    "                num_boost_round=num_boost_round,\n",
    "                early_stopping_rounds=30)"
   ]
  },
  {
   "cell_type": "code",
   "execution_count": 47,
   "metadata": {},
   "outputs": [
    {
     "data": {
      "text/plain": [
       "<matplotlib.axes._subplots.AxesSubplot at 0x1d57c9e1ef0>"
      ]
     },
     "execution_count": 47,
     "metadata": {},
     "output_type": "execute_result"
    },
    {
     "data": {
      "image/png": "[encoded data removed]",
      "text/plain": [
       "<Figure size 432x288 with 1 Axes>"
      ]
     },
     "metadata": {
      "needs_background": "light"
     },
     "output_type": "display_data"
    }
   ],
   "source": [
    "lgb.plot_importance(bst)"
   ]
  },
  {
   "cell_type": "markdown",
   "metadata": {},
   "source": [
    "It looks like the model learns the IPs which might be ok if the IPs remain consistent in the data on which we use the model to make predictions.\n",
    "\n",
    "For a robust model that does not overfit on IP, a new model can be trained with the IP predictor removed."
   ]
  },
  {
   "cell_type": "markdown",
   "metadata": {},
   "source": [
    "## Validation"
   ]
  },
  {
   "cell_type": "markdown",
   "metadata": {},
   "source": [
    "Make predictions on the test set and check them online on Kaggle."
   ]
  },
  {
   "cell_type": "code",
   "execution_count": 21,
   "metadata": {
    "collapsed": true
   },
   "outputs": [
    {
     "name": "stdout",
     "output_type": "stream",
     "text": [
      "0\n",
      "1\n",
      "2\n",
      "3\n",
      "4\n",
      "5\n",
      "6\n",
      "7\n",
      "8\n",
      "9\n",
      "10\n",
      "11\n",
      "12\n",
      "13\n",
      "14\n",
      "15\n",
      "16\n",
      "17\n",
      "18\n",
      "19\n",
      "20\n",
      "21\n",
      "22\n",
      "23\n",
      "24\n",
      "25\n",
      "26\n",
      "27\n",
      "28\n",
      "29\n",
      "30\n",
      "31\n",
      "32\n",
      "33\n",
      "34\n",
      "35\n",
      "36\n",
      "37\n",
      "38\n",
      "39\n",
      "Wall time: 6min 38s\n"
     ]
    }
   ],
   "source": [
    "%%time\n",
    "preds = np.array([])\n",
    "for i, chunk in enumerate(np.array_split(test_df, 40)):\n",
    "    print(i)\n",
    "    preds = np.append(preds, bst.predict(chunk[predictors], num_iteration=bst.best_iteration))"
   ]
  },
  {
   "cell_type": "code",
   "execution_count": 31,
   "metadata": {},
   "outputs": [
    {
     "data": {
      "text/plain": [
       "(18790469, 18790469)"
      ]
     },
     "execution_count": 31,
     "metadata": {},
     "output_type": "execute_result"
    }
   ],
   "source": [
    "# check same size\n",
    "preds.size, test_df.shape[0]"
   ]
  },
  {
   "cell_type": "code",
   "execution_count": 32,
   "metadata": {},
   "outputs": [],
   "source": [
    "sub = pd.DataFrame()\n",
    "sub['click_id'] = test_df['click_id'].astype('int')\n",
    "sub['is_attributed'] = preds\n",
    "\n",
    "sub.to_csv('submission.csv',     # filename\n",
    "           index=False,          # don't write row names\n",
    "           float_format='%.9f')  # format floats as strings"
   ]
  },
  {
   "cell_type": "markdown",
   "metadata": {},
   "source": [
    "The predictions received an area under the ROC curve score of: 0.97578."
   ]
  },
  {
   "cell_type": "code",
   "execution_count": null,
   "metadata": {},
   "outputs": [],
   "source": []
  }
 ],
 "metadata": {
  "kernelspec": {
   "display_name": "Python 3",
   "language": "python",
   "name": "python3"
  },
  "language_info": {
   "codemirror_mode": {
    "name": "ipython",
    "version": 3
   },
   "file_extension": ".py",
   "mimetype": "text/x-python",
   "name": "python",
   "nbconvert_exporter": "python",
   "pygments_lexer": "ipython3",
   "version": "3.7.1"
  }
 },
 "nbformat": 4,
 "nbformat_minor": 2
}
